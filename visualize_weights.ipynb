{
 "cells": [
  {
   "cell_type": "code",
   "execution_count": 1,
   "metadata": {},
   "outputs": [],
   "source": [
    "import pandas as pd\n",
    "import matplotlib.pyplot as plt\n",
    "import seaborn as sns\n",
    "import numpy as np"
   ]
  },
  {
   "cell_type": "markdown",
   "metadata": {},
   "source": [
    "Import the weight.csv generated from a periodic training. Here the weight.csv used is from the last period of Tmall dataset (SRIU/ckpts/tmall_MF_SRIU_10.19-10.30_0.5_0.01/MF_SRIU_10.30/weight.csv)"
   ]
  },
  {
   "cell_type": "code",
   "execution_count": 2,
   "metadata": {},
   "outputs": [
    {
     "data": {
      "text/html": [
       "<div>\n",
       "<style scoped>\n",
       "    .dataframe tbody tr th:only-of-type {\n",
       "        vertical-align: middle;\n",
       "    }\n",
       "\n",
       "    .dataframe tbody tr th {\n",
       "        vertical-align: top;\n",
       "    }\n",
       "\n",
       "    .dataframe thead th {\n",
       "        text-align: right;\n",
       "    }\n",
       "</style>\n",
       "<table border=\"1\" class=\"dataframe\">\n",
       "  <thead>\n",
       "    <tr style=\"text-align: right;\">\n",
       "      <th></th>\n",
       "      <th>userId</th>\n",
       "      <th>itemId</th>\n",
       "      <th>label</th>\n",
       "      <th>logits</th>\n",
       "      <th>neg_logits_mean</th>\n",
       "      <th>neg_logits_std</th>\n",
       "      <th>pos_logits_mean</th>\n",
       "      <th>pos_logits_std</th>\n",
       "      <th>score</th>\n",
       "      <th>score_expsum</th>\n",
       "      <th>count</th>\n",
       "      <th>weight</th>\n",
       "    </tr>\n",
       "  </thead>\n",
       "  <tbody>\n",
       "    <tr>\n",
       "      <td>0</td>\n",
       "      <td>274596</td>\n",
       "      <td>191823</td>\n",
       "      <td>1</td>\n",
       "      <td>-2.083431</td>\n",
       "      <td>-2.009088</td>\n",
       "      <td>1.085618</td>\n",
       "      <td>-0.113879</td>\n",
       "      <td>2.40291</td>\n",
       "      <td>-0.409826</td>\n",
       "      <td>73.10641</td>\n",
       "      <td>66</td>\n",
       "      <td>0.599243</td>\n",
       "    </tr>\n",
       "    <tr>\n",
       "      <td>1</td>\n",
       "      <td>274596</td>\n",
       "      <td>403210</td>\n",
       "      <td>0</td>\n",
       "      <td>-2.700784</td>\n",
       "      <td>-2.009088</td>\n",
       "      <td>1.085618</td>\n",
       "      <td>-0.113879</td>\n",
       "      <td>2.40291</td>\n",
       "      <td>0.318573</td>\n",
       "      <td>73.10641</td>\n",
       "      <td>66</td>\n",
       "      <td>1.241489</td>\n",
       "    </tr>\n",
       "    <tr>\n",
       "      <td>2</td>\n",
       "      <td>274596</td>\n",
       "      <td>62635</td>\n",
       "      <td>0</td>\n",
       "      <td>-1.305239</td>\n",
       "      <td>-2.009088</td>\n",
       "      <td>1.085618</td>\n",
       "      <td>-0.113879</td>\n",
       "      <td>2.40291</td>\n",
       "      <td>-0.324170</td>\n",
       "      <td>73.10641</td>\n",
       "      <td>66</td>\n",
       "      <td>0.652835</td>\n",
       "    </tr>\n",
       "    <tr>\n",
       "      <td>3</td>\n",
       "      <td>274596</td>\n",
       "      <td>492356</td>\n",
       "      <td>0</td>\n",
       "      <td>-2.500918</td>\n",
       "      <td>-2.009088</td>\n",
       "      <td>1.085618</td>\n",
       "      <td>-0.113879</td>\n",
       "      <td>2.40291</td>\n",
       "      <td>0.226521</td>\n",
       "      <td>73.10641</td>\n",
       "      <td>66</td>\n",
       "      <td>1.132310</td>\n",
       "    </tr>\n",
       "    <tr>\n",
       "      <td>4</td>\n",
       "      <td>274596</td>\n",
       "      <td>277767</td>\n",
       "      <td>0</td>\n",
       "      <td>-3.217599</td>\n",
       "      <td>-2.009088</td>\n",
       "      <td>1.085618</td>\n",
       "      <td>-0.113879</td>\n",
       "      <td>2.40291</td>\n",
       "      <td>0.556601</td>\n",
       "      <td>73.10641</td>\n",
       "      <td>66</td>\n",
       "      <td>1.575132</td>\n",
       "    </tr>\n",
       "  </tbody>\n",
       "</table>\n",
       "</div>"
      ],
      "text/plain": [
       "   userId  itemId  label    logits  neg_logits_mean  neg_logits_std  \\\n",
       "0  274596  191823      1 -2.083431        -2.009088        1.085618   \n",
       "1  274596  403210      0 -2.700784        -2.009088        1.085618   \n",
       "2  274596   62635      0 -1.305239        -2.009088        1.085618   \n",
       "3  274596  492356      0 -2.500918        -2.009088        1.085618   \n",
       "4  274596  277767      0 -3.217599        -2.009088        1.085618   \n",
       "\n",
       "   pos_logits_mean  pos_logits_std     score  score_expsum  count    weight  \n",
       "0        -0.113879         2.40291 -0.409826      73.10641     66  0.599243  \n",
       "1        -0.113879         2.40291  0.318573      73.10641     66  1.241489  \n",
       "2        -0.113879         2.40291 -0.324170      73.10641     66  0.652835  \n",
       "3        -0.113879         2.40291  0.226521      73.10641     66  1.132310  \n",
       "4        -0.113879         2.40291  0.556601      73.10641     66  1.575132  "
      ]
     },
     "execution_count": 2,
     "metadata": {},
     "output_type": "execute_result"
    }
   ],
   "source": [
    "weight_df = pd.read_csv('weight.csv')\n",
    "weight_df.head()"
   ]
  },
  {
   "cell_type": "markdown",
   "metadata": {},
   "source": [
    "Get users that have more than 700 samples for better distribution visualization"
   ]
  },
  {
   "cell_type": "code",
   "execution_count": 3,
   "metadata": {},
   "outputs": [
    {
     "data": {
      "text/html": [
       "<div>\n",
       "<style scoped>\n",
       "    .dataframe tbody tr th:only-of-type {\n",
       "        vertical-align: middle;\n",
       "    }\n",
       "\n",
       "    .dataframe tbody tr th {\n",
       "        vertical-align: top;\n",
       "    }\n",
       "\n",
       "    .dataframe thead th {\n",
       "        text-align: right;\n",
       "    }\n",
       "</style>\n",
       "<table border=\"1\" class=\"dataframe\">\n",
       "  <thead>\n",
       "    <tr style=\"text-align: right;\">\n",
       "      <th></th>\n",
       "      <th>userId</th>\n",
       "      <th>count</th>\n",
       "    </tr>\n",
       "  </thead>\n",
       "  <tbody>\n",
       "    <tr>\n",
       "      <td>119</td>\n",
       "      <td>670</td>\n",
       "      <td>1002</td>\n",
       "    </tr>\n",
       "    <tr>\n",
       "      <td>173</td>\n",
       "      <td>975</td>\n",
       "      <td>1170</td>\n",
       "    </tr>\n",
       "    <tr>\n",
       "      <td>1420</td>\n",
       "      <td>7739</td>\n",
       "      <td>888</td>\n",
       "    </tr>\n",
       "    <tr>\n",
       "      <td>1452</td>\n",
       "      <td>7976</td>\n",
       "      <td>1506</td>\n",
       "    </tr>\n",
       "    <tr>\n",
       "      <td>2990</td>\n",
       "      <td>16327</td>\n",
       "      <td>2130</td>\n",
       "    </tr>\n",
       "  </tbody>\n",
       "</table>\n",
       "</div>"
      ],
      "text/plain": [
       "      userId  count\n",
       "119      670   1002\n",
       "173      975   1170\n",
       "1420    7739    888\n",
       "1452    7976   1506\n",
       "2990   16327   2130"
      ]
     },
     "execution_count": 3,
     "metadata": {},
     "output_type": "execute_result"
    }
   ],
   "source": [
    "weight_df_user_count = weight_df.groupby('userId')['logits'].count().reset_index().rename(columns={'logits': 'count'})\n",
    "weight_df_user_count[weight_df_user_count['count'] > 800].head()"
   ]
  },
  {
   "cell_type": "markdown",
   "metadata": {},
   "source": [
    "Here we randomely choose user 7739 to visualize. We have tried several users, the results are similar."
   ]
  },
  {
   "cell_type": "code",
   "execution_count": 6,
   "metadata": {},
   "outputs": [
    {
     "data": {
      "image/png": "[encoded data removed]",
      "text/plain": [
       "<Figure size 432x288 with 1 Axes>"
      ]
     },
     "metadata": {
      "needs_background": "light"
     },
     "output_type": "display_data"
    }
   ],
   "source": [
    "ax = sns.distplot(weight_df[weight_df.userId == 7739].logits, hist=True, kde=True, \n",
    "             bins=np.arange(-10, 10, 1), color='teal',\n",
    "             hist_kws={'edgecolor':'teal'},\n",
    "             kde_kws={'linewidth': 1.5})\n",
    "plt.ylabel(\"Density\", fontsize=12)\n",
    "plt.xlabel(\"Logit\", fontsize=12)\n",
    "plt.yticks(np.arange(0, 0.17, 0.04), fontsize=12)\n",
    "plt.xticks(np.arange(-10, 12.5, 5), fontsize=12)\n",
    "plt.tight_layout()\n",
    "# plt.savefig('logit_distplot.png')"
   ]
  },
  {
   "cell_type": "code",
   "execution_count": 7,
   "metadata": {},
   "outputs": [
    {
     "data": {
      "image/png": "[encoded data removed]",
      "text/plain": [
       "<Figure size 432x288 with 1 Axes>"
      ]
     },
     "metadata": {
      "needs_background": "light"
     },
     "output_type": "display_data"
    }
   ],
   "source": [
    "sns.distplot(weight_df[weight_df.userId == 7739].weight, hist=True, kde=True, \n",
    "             color='darkorange', bins=np.arange(0, 3, 0.15),\n",
    "             hist_kws={'edgecolor':'darkorange'},\n",
    "             kde_kws={'linewidth': 1.5})\n",
    "plt.ylabel(\"Density\", fontsize=12)\n",
    "plt.xlabel(\"Weight\", fontsize=12)\n",
    "plt.yticks(np.arange(0, 1.2, 0.25), fontsize=12)\n",
    "plt.xticks(np.arange(0, 3.1, 1), fontsize=12)\n",
    "plt.tight_layout()\n",
    "# plt.savefig('weight_distplot.png')"
   ]
  },
  {
   "cell_type": "code",
   "execution_count": null,
   "metadata": {},
   "outputs": [],
   "source": []
  }
 ],
 "metadata": {
  "kernelspec": {
   "display_name": "Python 3",
   "language": "python",
   "name": "python3"
  },
  "language_info": {
   "codemirror_mode": {
    "name": "ipython",
    "version": 3
   },
   "file_extension": ".py",
   "mimetype": "text/x-python",
   "name": "python",
   "nbconvert_exporter": "python",
   "pygments_lexer": "ipython3",
   "version": "3.7.4"
  },
  "pycharm": {
   "stem_cell": {
    "cell_type": "raw",
    "source": [],
    "metadata": {
     "collapsed": false
    }
   }
  }
 },
 "nbformat": 4,
 "nbformat_minor": 1
}